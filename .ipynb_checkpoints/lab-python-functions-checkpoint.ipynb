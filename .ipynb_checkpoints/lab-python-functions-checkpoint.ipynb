{
 "cells": [
  {
   "cell_type": "markdown",
   "id": "25d7736c-ba17-4aff-b6bb-66eba20fbf4e",
   "metadata": {},
   "source": [
    "# Lab | Functions"
   ]
  },
  {
   "cell_type": "markdown",
   "id": "0c581062-8967-4d93-b06e-62833222f930",
   "metadata": {
    "tags": []
   },
   "source": [
    "## Exercise: Managing Customer Orders with Functions\n",
    "\n",
    "In the previous exercise, you improved the code for managing customer orders by using loops and flow control. Now, let's take it a step further and refactor the code by introducing functions.\n",
    "\n",
    "Follow the steps below to complete the exercise:\n",
    "\n",
    "1. Define a function named `initialize_inventory` that takes `products` as a parameter. Inside the function, implement the code for initializing the inventory dictionary using a loop and user input.\n",
    "\n",
    "2. Define a function named `get_customer_orders` that takes no parameters. Inside the function, implement the code for prompting the user to enter the product names using a loop. The function should return the `customer_orders` set.\n",
    "\n",
    "3. Define a function named `update_inventory` that takes `customer_orders` and `inventory` as parameters. Inside the function, implement the code for updating the inventory dictionary based on the customer orders.\n",
    "\n",
    "4. Define a function named `calculate_order_statistics` that takes `customer_orders` and `products` as parameters. Inside the function, implement the code for calculating the order statistics (total products ordered, and percentage of unique products ordered). The function should return these values.\n",
    "\n",
    "5. Define a function named `print_order_statistics` that takes `order_statistics` as a parameter. Inside the function, implement the code for printing the order statistics.\n",
    "\n",
    "6. Define a function named `print_updated_inventory` that takes `inventory` as a parameter. Inside the function, implement the code for printing the updated inventory.\n",
    "\n",
    "7. Call the functions in the appropriate sequence to execute the program and manage customer orders.\n",
    "\n",
    "Hints for functions:\n",
    "\n",
    "- Consider the input parameters required for each function and their return values.\n",
    "- Utilize function parameters and return values to transfer data between functions.\n",
    "- Test your functions individually to ensure they work correctly.\n",
    "\n",
    "\n"
   ]
  },
  {
   "cell_type": "code",
   "execution_count": 17,
   "id": "4538f192-a207-4289-a81e-42b47033fb16",
   "metadata": {},
   "outputs": [],
   "source": [
    "products = [\"t-shirt\", \"mug\", \"hat\", \"book\", \"keychain\"]\n",
    "inventory = {}\n",
    "# 1. Define a function named initialize_inventory that takes products as a parameter. \n",
    "# Inside the function, implement the code for initializing the inventory dictionary using a loop and user input.\n",
    "def initialize_inventory(products):\n",
    "    for product in products:\n",
    "        quantity = int(input(f\"How many items of {product} are available?\"))\n",
    "        inventory[product] = quantity"
   ]
  },
  {
   "cell_type": "code",
   "execution_count": 41,
   "id": "4f5c22e2-5a27-4e75-b7c8-2db84724cdc9",
   "metadata": {},
   "outputs": [],
   "source": [
    "# 2. Define a function named `get_customer_orders` that takes no parameters. \n",
    "# Inside the function, implement the code for prompting the user to enter the product names using a loop. \n",
    "# The function should return the `customer_orders` set.\n",
    "\n",
    "def get_custom_orders():\n",
    "    customer_orders = set()\n",
    "    answer = \"yes\" # default assumption\n",
    "    while answer == \"yes\":\n",
    "        item=input(f\"Which product do you want to order from the following list {products} ?\")\n",
    "        if item in inventory.keys() and inventory[item] > 0:\n",
    "            customer_orders.add(item)\n",
    "        else:\n",
    "            print(\"Sorry, not available.\")\n",
    "        answer=input(\"Do you want to order more? yes/no\")\n",
    "    print(\"Thank you for your purchase of:\", customer_orders)\n",
    "    return customer_orders "
   ]
  },
  {
   "cell_type": "code",
   "execution_count": 31,
   "id": "0b24f048-fdf7-467c-b45a-81d26fbc9d93",
   "metadata": {},
   "outputs": [],
   "source": [
    "# 3. Define a function named `update_inventory` that takes `customer_orders` and `inventory` as parameters. \n",
    "# Inside the function, implement the code for updating the inventory dictionary based on the customer orders.\n",
    "def update_inventory(customer_orders, inventory):\n",
    "    for product in customer_orders:\n",
    "        if inventory[product] >= 1:\n",
    "            inventory[product]-=1\n",
    "        else:\n",
    "            print(\"Not available anymore\")"
   ]
  },
  {
   "cell_type": "code",
   "execution_count": 35,
   "id": "d0b58a1c-a03e-469e-a7a6-a1bee17a48f5",
   "metadata": {},
   "outputs": [],
   "source": [
    "# 4. Define a function named `calculate_order_statistics` that takes `customer_orders` and `products` as parameters. \n",
    "# Inside the function, implement the code for calculating the order statistics (total products ordered, and percentage of unique products ordered). \n",
    "# The function should return these values.\n",
    "def calculate_order_statistics(customer_orders, products):\n",
    "    total = len(customer_orders)\n",
    "    perc = 100 * total / len(inventory)\n",
    "    return total, perc"
   ]
  },
  {
   "cell_type": "code",
   "execution_count": 55,
   "id": "bc8bf545-0f98-4a2e-aeab-92f5fe90a3f5",
   "metadata": {},
   "outputs": [],
   "source": [
    "# 5. Define a function named `print_order_statistics` that takes `order_statistics` as a parameter. \n",
    "# Inside the function, implement the code for printing the order statistics.\n",
    "def print_order_statistics(order_statistics):\n",
    "    print(f\"Order Statistics: Total Products Ordered: {order_statistics[0]} Percentage of Products Ordered: {order_statistics[1]}\")"
   ]
  },
  {
   "cell_type": "code",
   "execution_count": 51,
   "id": "2cae8d71-a33d-4213-a284-522128f3530e",
   "metadata": {},
   "outputs": [],
   "source": [
    "# 6. Define a function named `print_updated_inventory` that takes `inventory` as a parameter. \n",
    "# Inside the function, implement the code for printing the updated inventory.\n",
    "def print_updated_inventory(inventory):\n",
    "    for product in inventory.keys():\n",
    "        print(f\"{product}:\", inventory[product])"
   ]
  },
  {
   "cell_type": "code",
   "execution_count": 57,
   "id": "29e17287-17cd-49ce-9a0a-64da9a50b4e5",
   "metadata": {},
   "outputs": [
    {
     "name": "stdin",
     "output_type": "stream",
     "text": [
      "How many items of t-shirt are available? 5\n",
      "How many items of mug are available? 5\n",
      "How many items of hat are available? 5\n",
      "How many items of book are available? 5\n",
      "How many items of keychain are available? 5\n",
      "Which product do you want to order from the following list ['t-shirt', 'mug', 'hat', 'book', 'keychain'] ? mug\n",
      "Do you want to order more? yes/no yes\n",
      "Which product do you want to order from the following list ['t-shirt', 'mug', 'hat', 'book', 'keychain'] ? hat\n",
      "Do you want to order more? yes/no no\n"
     ]
    },
    {
     "name": "stdout",
     "output_type": "stream",
     "text": [
      "Thank you for your purchase of: {'hat', 'mug'}\n",
      "Order Statistics: Total Products Ordered: 2 Percentage of Products Ordered: 40.0\n",
      "t-shirt: 5\n",
      "mug: 4\n",
      "hat: 4\n",
      "book: 5\n",
      "keychain: 5\n"
     ]
    }
   ],
   "source": [
    "# 7. Call the functions in the appropriate sequence to execute the program and manage customer orders.\n",
    "initialize_inventory(products)\n",
    "\n",
    "customer_orders = get_custom_orders()\n",
    "update_inventory(customer_orders, inventory)\n",
    "\n",
    "order_statistics = calculate_order_statistics(customer_orders, products)\n",
    "print_order_statistics(order_statistics)\n",
    "\n",
    "print_updated_inventory(inventory)"
   ]
  },
  {
   "cell_type": "markdown",
   "id": "58195e7f-9ce6-415b-a1f7-0da48e1c8afd",
   "metadata": {},
   "source": [
    "### Output\n",
    "How many items of t-shirt are available? 5\n",
    "How many items of mug are available? 5\n",
    "How many items of hat are available? 5\n",
    "How many items of book are available? 5\n",
    "How many items of keychain are available? 5\n",
    "Which product do you want to order from the following list ['t-shirt', 'mug', 'hat', 'book', 'keychain'] ? mug\n",
    "Do you want to order more? yes/no yes\n",
    "Which product do you want to order from the following list ['t-shirt', 'mug', 'hat', 'book', 'keychain'] ? hat\n",
    "Do you want to order more? yes/no no\n",
    "\n",
    "Thank you for your purchase of: {'hat', 'mug'}\n",
    "Order Statistics: Total Products Ordered: 2 Percentage of Products Ordered: 40.0\n",
    "t-shirt: 5\n",
    "mug: 4\n",
    "hat: 4\n",
    "book: 5\n",
    "keychain: 5\n"
   ]
  },
  {
   "cell_type": "code",
   "execution_count": null,
   "id": "d371a957-d23a-46c6-84aa-14f76d31cc50",
   "metadata": {},
   "outputs": [],
   "source": []
  }
 ],
 "metadata": {
  "kernelspec": {
   "display_name": "Python [conda env:base] *",
   "language": "python",
   "name": "conda-base-py"
  },
  "language_info": {
   "codemirror_mode": {
    "name": "ipython",
    "version": 3
   },
   "file_extension": ".py",
   "mimetype": "text/x-python",
   "name": "python",
   "nbconvert_exporter": "python",
   "pygments_lexer": "ipython3",
   "version": "3.12.7"
  }
 },
 "nbformat": 4,
 "nbformat_minor": 5
}
